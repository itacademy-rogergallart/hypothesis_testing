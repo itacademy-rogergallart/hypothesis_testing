{
  "nbformat": 4,
  "nbformat_minor": 0,
  "metadata": {
    "colab": {
      "name": "Tasca_test_hipotesis.ipynb",
      "provenance": [],
      "authorship_tag": "ABX9TyPvZ5Ez3k5mVTNwWRlrSMaS"
    },
    "kernelspec": {
      "name": "python3",
      "display_name": "Python 3"
    },
    "language_info": {
      "name": "python"
    }
  },
  "cells": [
    {
      "cell_type": "markdown",
      "metadata": {
        "id": "izZQjpigC12F"
      },
      "source": [
        "# Tasca - Test d'hipòtesis"
      ]
    },
    {
      "cell_type": "markdown",
      "metadata": {
        "id": "kxpFCZ2cC1zZ"
      },
      "source": [
        "## Exercici 1\n",
        "Agafa un conjunt de dades de tema esportiu que t'agradi i selecciona un atribut del conjunt de dades. Calcula el p-valor i digues si rebutja la hipòtesi nul·la agafant un alfa de 5%. \n",
        "\n"
      ]
    },
    {
      "cell_type": "code",
      "metadata": {
        "id": "FHIn8YYoDEjU"
      },
      "source": [
        ""
      ],
      "execution_count": null,
      "outputs": []
    },
    {
      "cell_type": "markdown",
      "metadata": {
        "id": "1kkk_LDIC1wn"
      },
      "source": [
        "## Exercici 2\n",
        "Continua amb el conjunt de dades de tema esportiu que t'agradi i selecciona dos atributs del conjunt de dades. Calcula el p-valor i digues si rebutja la hipòtesi nul·la agafant un alfa de 5%."
      ]
    },
    {
      "cell_type": "code",
      "metadata": {
        "id": "LRxttT4QDEJb"
      },
      "source": [
        ""
      ],
      "execution_count": null,
      "outputs": []
    },
    {
      "cell_type": "markdown",
      "metadata": {
        "id": "rjxC0YGEC1t4"
      },
      "source": [
        "## Exercici 3\n",
        "Continua amb el conjunt de dades de tema esportiu que t'agradi i selecciona tres atributs del conjunt de dades. Calcula el p-valor i digues si rebutja la hipòtesi nul·la agafant un alfa de 5%."
      ]
    },
    {
      "cell_type": "code",
      "metadata": {
        "id": "gLS6I2yQDE8n"
      },
      "source": [
        ""
      ],
      "execution_count": null,
      "outputs": []
    }
  ]
}