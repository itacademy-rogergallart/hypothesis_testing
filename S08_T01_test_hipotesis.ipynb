{
  "nbformat": 4,
  "nbformat_minor": 0,
  "metadata": {
    "colab": {
      "name": "S08_T01_test_hipotesis.ipynb",
      "provenance": [],
      "authorship_tag": "ABX9TyNhCiRohkjWcAIX6xk8C5vF"
    },
    "kernelspec": {
      "name": "python3",
      "display_name": "Python 3"
    },
    "language_info": {
      "name": "python"
    }
  },
  "cells": [
    {
      "cell_type": "markdown",
      "metadata": {
        "id": "izZQjpigC12F"
      },
      "source": [
        "# Tasca - Test d'hipòtesis"
      ]
    },
    {
      "cell_type": "markdown",
      "metadata": {
        "id": "bsUf5IarJJIq"
      },
      "source": [
        "## Preprocessament del dataset"
      ]
    },
    {
      "cell_type": "markdown",
      "metadata": {
        "id": "4yj0TGwXE45Y"
      },
      "source": [
        "Utilitzarem aquest dataset de Kaggle que inclou els atlètes i resultats (medalles) durant 120 anys de jocs olímpics\n",
        "\n",
        "https://www.kaggle.com/heesoo37/120-years-of-olympic-history-athletes-and-results"
      ]
    },
    {
      "cell_type": "code",
      "metadata": {
        "id": "WBNaThIJVlTI",
        "colab": {
          "base_uri": "https://localhost:8080/"
        },
        "outputId": "9200d9d9-4938-45ce-c8c5-9f3b713f93e2"
      },
      "source": [
        "# Dataset de Kaggle: https://www.kaggle.com/heesoo37/120-years-of-olympic-history-athletes-and-results\n",
        "\n",
        "# Nota: l'afegit '&> /dev/null' evita que es mostrin en el notebook el resultat\n",
        "# d'executar commanes de terminal com pip, wget, etc. I així el notebook queda més net. \n",
        "\n",
        "!pip install kaggle &> /dev/null\n",
        "\n",
        "!wget -O kaggle.json https://www.dropbox.com/s/xm28qj0cdfopm6c/kaggle.json?dl=0 &> /dev/null\n",
        "!mkdir -p ~/.kaggle/ && mv kaggle.json ~/.kaggle/ && chmod 600 ~/.kaggle/kaggle.json &> /dev/null\n",
        "\n",
        "!kaggle datasets download \"heesoo37/120-years-of-olympic-history-athletes-and-results/\" &> /dev/null\n",
        "\n",
        "!unzip 120-years-of-olympic-history-athletes-and-results.zip"
      ],
      "execution_count": 1,
      "outputs": [
        {
          "output_type": "stream",
          "text": [
            "Archive:  120-years-of-olympic-history-athletes-and-results.zip\n",
            "  inflating: athlete_events.csv      \n",
            "  inflating: noc_regions.csv         \n"
          ],
          "name": "stdout"
        }
      ]
    },
    {
      "cell_type": "markdown",
      "metadata": {
        "id": "WPN-sf0OV3g6"
      },
      "source": [
        "El fitxer athlete_events.csv conté 271116 files i 15 columnes. Cada fila correspon a un atleta individual competing en un event olímpic. Les columnes són::\n",
        "\n",
        "- ID - Unique number for each athlete\n",
        "- Name - Athlete's name\n",
        "- Sex - M or F\n",
        "- Age - Integer\n",
        "- Height - In centimeters\n",
        "- Weight - In kilograms\n",
        "- Team - Team name\n",
        "- NOC - National Olympic Committee 3-letter code\n",
        "- Games - Year and season\n",
        "- Year - Integer\n",
        "- Season - Summer or Winter\n",
        "- City - Host city\n",
        "- Sport - Sport\n",
        "- Event - Event\n",
        "- Medal - Gold, Silver, Bronze, or NA"
      ]
    },
    {
      "cell_type": "code",
      "metadata": {
        "id": "_a7KGg-Ui9JO",
        "colab": {
          "base_uri": "https://localhost:8080/"
        },
        "outputId": "07a162b9-5fe8-4401-c6fd-8f2d43e040ee"
      },
      "source": [
        "# Instal·lem la darrera versió de Scipy, perquè Google Colab porta la 1.4 per defecte\n",
        "!pip install --upgrade scipy"
      ],
      "execution_count": 2,
      "outputs": [
        {
          "output_type": "stream",
          "text": [
            "Collecting scipy\n",
            "\u001b[?25l  Downloading https://files.pythonhosted.org/packages/7d/e8/43ffca541d2f208d516296950b25fe1084b35c2881f4d444c1346ca75815/scipy-1.6.3-cp37-cp37m-manylinux1_x86_64.whl (27.4MB)\n",
            "\u001b[K     |████████████████████████████████| 27.4MB 150kB/s \n",
            "\u001b[?25hRequirement already satisfied, skipping upgrade: numpy<1.23.0,>=1.16.5 in /usr/local/lib/python3.7/dist-packages (from scipy) (1.19.5)\n",
            "\u001b[31mERROR: albumentations 0.1.12 has requirement imgaug<0.2.7,>=0.2.5, but you'll have imgaug 0.2.9 which is incompatible.\u001b[0m\n",
            "Installing collected packages: scipy\n",
            "  Found existing installation: scipy 1.4.1\n",
            "    Uninstalling scipy-1.4.1:\n",
            "      Successfully uninstalled scipy-1.4.1\n",
            "Successfully installed scipy-1.6.3\n"
          ],
          "name": "stdout"
        }
      ]
    },
    {
      "cell_type": "code",
      "metadata": {
        "id": "a9GuJDlol6l0"
      },
      "source": [
        "# Imports\n",
        "import pandas as pd\n",
        "import numpy as np\n",
        "import matplotlib.pyplot as plt\n",
        "import seaborn as sns\n",
        "%matplotlib inline\n",
        "\n",
        "from scipy.stats import ttest_1samp, ttest_ind, f_oneway\n",
        "from statsmodels.stats.multicomp import pairwise_tukeyhsd\n"
      ],
      "execution_count": 48,
      "outputs": []
    },
    {
      "cell_type": "code",
      "metadata": {
        "id": "4luuGA1RVC2r"
      },
      "source": [
        "df = pd.read_csv('athlete_events.csv', index_col='ID')"
      ],
      "execution_count": 49,
      "outputs": []
    },
    {
      "cell_type": "code",
      "metadata": {
        "colab": {
          "base_uri": "https://localhost:8080/",
          "height": 297
        },
        "id": "lkMIX5LxVJaG",
        "outputId": "0fedc261-47d9-4f65-8a48-9870ec7b5963"
      },
      "source": [
        "df.sample(7)"
      ],
      "execution_count": 50,
      "outputs": [
        {
          "output_type": "execute_result",
          "data": {
            "text/html": [
              "<div>\n",
              "<style scoped>\n",
              "    .dataframe tbody tr th:only-of-type {\n",
              "        vertical-align: middle;\n",
              "    }\n",
              "\n",
              "    .dataframe tbody tr th {\n",
              "        vertical-align: top;\n",
              "    }\n",
              "\n",
              "    .dataframe thead th {\n",
              "        text-align: right;\n",
              "    }\n",
              "</style>\n",
              "<table border=\"1\" class=\"dataframe\">\n",
              "  <thead>\n",
              "    <tr style=\"text-align: right;\">\n",
              "      <th></th>\n",
              "      <th>Name</th>\n",
              "      <th>Sex</th>\n",
              "      <th>Age</th>\n",
              "      <th>Height</th>\n",
              "      <th>Weight</th>\n",
              "      <th>Team</th>\n",
              "      <th>NOC</th>\n",
              "      <th>Games</th>\n",
              "      <th>Year</th>\n",
              "      <th>Season</th>\n",
              "      <th>City</th>\n",
              "      <th>Sport</th>\n",
              "      <th>Event</th>\n",
              "      <th>Medal</th>\n",
              "    </tr>\n",
              "    <tr>\n",
              "      <th>ID</th>\n",
              "      <th></th>\n",
              "      <th></th>\n",
              "      <th></th>\n",
              "      <th></th>\n",
              "      <th></th>\n",
              "      <th></th>\n",
              "      <th></th>\n",
              "      <th></th>\n",
              "      <th></th>\n",
              "      <th></th>\n",
              "      <th></th>\n",
              "      <th></th>\n",
              "      <th></th>\n",
              "      <th></th>\n",
              "    </tr>\n",
              "  </thead>\n",
              "  <tbody>\n",
              "    <tr>\n",
              "      <th>44330</th>\n",
              "      <td>Gwon Jung-Hyeon</td>\n",
              "      <td>M</td>\n",
              "      <td>26.0</td>\n",
              "      <td>170.0</td>\n",
              "      <td>65.0</td>\n",
              "      <td>South Korea</td>\n",
              "      <td>KOR</td>\n",
              "      <td>1968 Summer</td>\n",
              "      <td>1968</td>\n",
              "      <td>Summer</td>\n",
              "      <td>Mexico City</td>\n",
              "      <td>Cycling</td>\n",
              "      <td>Cycling Men's Sprint</td>\n",
              "      <td>NaN</td>\n",
              "    </tr>\n",
              "    <tr>\n",
              "      <th>116813</th>\n",
              "      <td>Hiroshi Suzuki</td>\n",
              "      <td>M</td>\n",
              "      <td>36.0</td>\n",
              "      <td>173.0</td>\n",
              "      <td>81.0</td>\n",
              "      <td>Japan</td>\n",
              "      <td>JPN</td>\n",
              "      <td>2010 Winter</td>\n",
              "      <td>2010</td>\n",
              "      <td>Winter</td>\n",
              "      <td>Vancouver</td>\n",
              "      <td>Bobsleigh</td>\n",
              "      <td>Bobsleigh Men's Four</td>\n",
              "      <td>NaN</td>\n",
              "    </tr>\n",
              "    <tr>\n",
              "      <th>54622</th>\n",
              "      <td>Jaroslav Jebek</td>\n",
              "      <td>M</td>\n",
              "      <td>33.0</td>\n",
              "      <td>171.0</td>\n",
              "      <td>81.0</td>\n",
              "      <td>Slovakia</td>\n",
              "      <td>SVK</td>\n",
              "      <td>2004 Summer</td>\n",
              "      <td>2004</td>\n",
              "      <td>Summer</td>\n",
              "      <td>Athina</td>\n",
              "      <td>Cycling</td>\n",
              "      <td>Cycling Men's Keirin</td>\n",
              "      <td>NaN</td>\n",
              "    </tr>\n",
              "    <tr>\n",
              "      <th>125115</th>\n",
              "      <td>Lia Vanea</td>\n",
              "      <td>F</td>\n",
              "      <td>26.0</td>\n",
              "      <td>177.0</td>\n",
              "      <td>67.0</td>\n",
              "      <td>Romania</td>\n",
              "      <td>ROU</td>\n",
              "      <td>1964 Summer</td>\n",
              "      <td>1964</td>\n",
              "      <td>Summer</td>\n",
              "      <td>Tokyo</td>\n",
              "      <td>Volleyball</td>\n",
              "      <td>Volleyball Women's Volleyball</td>\n",
              "      <td>NaN</td>\n",
              "    </tr>\n",
              "    <tr>\n",
              "      <th>70349</th>\n",
              "      <td>Pentti Tapio Aleksi Linnosvuo (Lindroos-)</td>\n",
              "      <td>M</td>\n",
              "      <td>27.0</td>\n",
              "      <td>182.0</td>\n",
              "      <td>79.0</td>\n",
              "      <td>Finland</td>\n",
              "      <td>FIN</td>\n",
              "      <td>1960 Summer</td>\n",
              "      <td>1960</td>\n",
              "      <td>Summer</td>\n",
              "      <td>Roma</td>\n",
              "      <td>Shooting</td>\n",
              "      <td>Shooting Men's Free Pistol, 50 metres</td>\n",
              "      <td>NaN</td>\n",
              "    </tr>\n",
              "    <tr>\n",
              "      <th>15932</th>\n",
              "      <td>Yelyzaveta Viktorivna Bryzhina</td>\n",
              "      <td>F</td>\n",
              "      <td>26.0</td>\n",
              "      <td>173.0</td>\n",
              "      <td>63.0</td>\n",
              "      <td>Ukraine</td>\n",
              "      <td>UKR</td>\n",
              "      <td>2016 Summer</td>\n",
              "      <td>2016</td>\n",
              "      <td>Summer</td>\n",
              "      <td>Rio de Janeiro</td>\n",
              "      <td>Athletics</td>\n",
              "      <td>Athletics Women's 4 x 100 metres Relay</td>\n",
              "      <td>NaN</td>\n",
              "    </tr>\n",
              "    <tr>\n",
              "      <th>101374</th>\n",
              "      <td>Nathan James Robertson</td>\n",
              "      <td>M</td>\n",
              "      <td>27.0</td>\n",
              "      <td>187.0</td>\n",
              "      <td>82.0</td>\n",
              "      <td>Great Britain</td>\n",
              "      <td>GBR</td>\n",
              "      <td>2004 Summer</td>\n",
              "      <td>2004</td>\n",
              "      <td>Summer</td>\n",
              "      <td>Athina</td>\n",
              "      <td>Badminton</td>\n",
              "      <td>Badminton Men's Doubles</td>\n",
              "      <td>NaN</td>\n",
              "    </tr>\n",
              "  </tbody>\n",
              "</table>\n",
              "</div>"
            ],
            "text/plain": [
              "                                             Name  ... Medal\n",
              "ID                                                 ...      \n",
              "44330                             Gwon Jung-Hyeon  ...   NaN\n",
              "116813                             Hiroshi Suzuki  ...   NaN\n",
              "54622                              Jaroslav Jebek  ...   NaN\n",
              "125115                                  Lia Vanea  ...   NaN\n",
              "70349   Pentti Tapio Aleksi Linnosvuo (Lindroos-)  ...   NaN\n",
              "15932              Yelyzaveta Viktorivna Bryzhina  ...   NaN\n",
              "101374                     Nathan James Robertson  ...   NaN\n",
              "\n",
              "[7 rows x 14 columns]"
            ]
          },
          "metadata": {
            "tags": []
          },
          "execution_count": 50
        }
      ]
    },
    {
      "cell_type": "code",
      "metadata": {
        "id": "2pJvMJgB9h5C"
      },
      "source": [
        "# A partir de la columna Event creem una columna on indiquem categoria de l'esport\n",
        "# en cas que existeixi (e.g. Atletisme --> 100meters, 5 mile, etc) i gènere de la competició (M=Homes, F=Dones, Mixed=Mixte)\n",
        "# Si no hi ha categories, llavors posem '-' (e.g. Basketball --> -)\n",
        "\n",
        "df['SportCategory'] = df.Event.replace(\"(.+\\'s\\s)|(?:(.+\\s)(?:Mixed))\",\"\",regex=True)\n",
        "df['SportCategory'] = df.apply(lambda row: '-' if (row.SportCategory == row.Sport) else row.SportCategory, axis=1)\n",
        "\n",
        "df['SportGenre'] = df.apply(lambda row: 'Mixed' if ('Mixed' in row.Event) else row.Sex, axis=1)"
      ],
      "execution_count": 51,
      "outputs": []
    },
    {
      "cell_type": "code",
      "metadata": {
        "colab": {
          "base_uri": "https://localhost:8080/"
        },
        "id": "p8396og9HRY9",
        "outputId": "e4a972f9-6fee-4f08-b5eb-6062d619c34c"
      },
      "source": [
        "df.info()"
      ],
      "execution_count": 52,
      "outputs": [
        {
          "output_type": "stream",
          "text": [
            "<class 'pandas.core.frame.DataFrame'>\n",
            "Int64Index: 271116 entries, 1 to 135571\n",
            "Data columns (total 16 columns):\n",
            " #   Column         Non-Null Count   Dtype  \n",
            "---  ------         --------------   -----  \n",
            " 0   Name           271116 non-null  object \n",
            " 1   Sex            271116 non-null  object \n",
            " 2   Age            261642 non-null  float64\n",
            " 3   Height         210945 non-null  float64\n",
            " 4   Weight         208241 non-null  float64\n",
            " 5   Team           271116 non-null  object \n",
            " 6   NOC            271116 non-null  object \n",
            " 7   Games          271116 non-null  object \n",
            " 8   Year           271116 non-null  int64  \n",
            " 9   Season         271116 non-null  object \n",
            " 10  City           271116 non-null  object \n",
            " 11  Sport          271116 non-null  object \n",
            " 12  Event          271116 non-null  object \n",
            " 13  Medal          39783 non-null   object \n",
            " 14  SportCategory  271116 non-null  object \n",
            " 15  SportGenre     271116 non-null  object \n",
            "dtypes: float64(3), int64(1), object(12)\n",
            "memory usage: 35.2+ MB\n"
          ],
          "name": "stdout"
        }
      ]
    },
    {
      "cell_type": "code",
      "metadata": {
        "id": "lR6vmF-gBCKM"
      },
      "source": [
        "# Per a les medalles, substituim NaN per \"None\" i convertim a tipus categòric \n",
        "# ordinal (None < Bronze < Silver < Gold)\n",
        "\n",
        "# Nota: 85% de les files tenen Medal=NaN. Podria ser que algun d'aquests NaN \n",
        "# estigués indicant que no es té la informació de si va guanyar medalla o no, \n",
        "# però entenem que aquí majoritariament els NaN aquí indiquen que l'atleta no va guanyar cap medalla\n",
        "\n",
        "df.Medal.fillna('None',inplace=True)\n",
        "medal_type = pd.CategoricalDtype(categories=[\"None\", \"Bronze\", \"Silver\", \"Gold\"], ordered=True)\n",
        "df.Medal = df.Medal.astype(medal_type)\n",
        "\n",
        "# Sex i Season també les convertim a categòrica\n",
        "df.Sex = df.Sex.astype('category')\n",
        "df.Season = df.Season.astype('category')\n",
        "\n",
        "# Convertim Age a enter Int64 (en majuscules, per permetre valors NaN)\n",
        "df.Age = df.Age.astype('Int64')"
      ],
      "execution_count": 53,
      "outputs": []
    },
    {
      "cell_type": "code",
      "metadata": {
        "id": "gQKLPHgjIdJR"
      },
      "source": [
        "# Reordenem les columnes i guardem en un csv\n",
        "df = df[['Name', 'Sex', 'Age', 'Height', 'Weight', 'Team', 'NOC', 'Games',\n",
        "       'Year', 'Season', 'City', 'Event','Sport', 'SportCategory',\n",
        "       'SportGenre','Medal']]\n",
        "\n",
        "df.to_csv('120-years-olympic-results_clean.csv')"
      ],
      "execution_count": 54,
      "outputs": []
    },
    {
      "cell_type": "code",
      "metadata": {
        "colab": {
          "base_uri": "https://localhost:8080/",
          "height": 382
        },
        "id": "aPqFgIPiH9xR",
        "outputId": "79b4516c-86e9-42f5-ea24-1493c605f4d6"
      },
      "source": [
        "df.sample(7)"
      ],
      "execution_count": 55,
      "outputs": [
        {
          "output_type": "execute_result",
          "data": {
            "text/html": [
              "<div>\n",
              "<style scoped>\n",
              "    .dataframe tbody tr th:only-of-type {\n",
              "        vertical-align: middle;\n",
              "    }\n",
              "\n",
              "    .dataframe tbody tr th {\n",
              "        vertical-align: top;\n",
              "    }\n",
              "\n",
              "    .dataframe thead th {\n",
              "        text-align: right;\n",
              "    }\n",
              "</style>\n",
              "<table border=\"1\" class=\"dataframe\">\n",
              "  <thead>\n",
              "    <tr style=\"text-align: right;\">\n",
              "      <th></th>\n",
              "      <th>Name</th>\n",
              "      <th>Sex</th>\n",
              "      <th>Age</th>\n",
              "      <th>Height</th>\n",
              "      <th>Weight</th>\n",
              "      <th>Team</th>\n",
              "      <th>NOC</th>\n",
              "      <th>Games</th>\n",
              "      <th>Year</th>\n",
              "      <th>Season</th>\n",
              "      <th>City</th>\n",
              "      <th>Event</th>\n",
              "      <th>Sport</th>\n",
              "      <th>SportCategory</th>\n",
              "      <th>SportGenre</th>\n",
              "      <th>Medal</th>\n",
              "    </tr>\n",
              "    <tr>\n",
              "      <th>ID</th>\n",
              "      <th></th>\n",
              "      <th></th>\n",
              "      <th></th>\n",
              "      <th></th>\n",
              "      <th></th>\n",
              "      <th></th>\n",
              "      <th></th>\n",
              "      <th></th>\n",
              "      <th></th>\n",
              "      <th></th>\n",
              "      <th></th>\n",
              "      <th></th>\n",
              "      <th></th>\n",
              "      <th></th>\n",
              "      <th></th>\n",
              "      <th></th>\n",
              "    </tr>\n",
              "  </thead>\n",
              "  <tbody>\n",
              "    <tr>\n",
              "      <th>111496</th>\n",
              "      <td>Curt Josef Sjberg</td>\n",
              "      <td>M</td>\n",
              "      <td>31</td>\n",
              "      <td>NaN</td>\n",
              "      <td>NaN</td>\n",
              "      <td>Sweden</td>\n",
              "      <td>SWE</td>\n",
              "      <td>1928 Summer</td>\n",
              "      <td>1928</td>\n",
              "      <td>Summer</td>\n",
              "      <td>Amsterdam</td>\n",
              "      <td>Diving Men's Springboard</td>\n",
              "      <td>Diving</td>\n",
              "      <td>Springboard</td>\n",
              "      <td>M</td>\n",
              "      <td>None</td>\n",
              "    </tr>\n",
              "    <tr>\n",
              "      <th>39421</th>\n",
              "      <td>Maksim \"Max\" Geller</td>\n",
              "      <td>M</td>\n",
              "      <td>21</td>\n",
              "      <td>172.0</td>\n",
              "      <td>71.0</td>\n",
              "      <td>Israel</td>\n",
              "      <td>ISR</td>\n",
              "      <td>1992 Summer</td>\n",
              "      <td>1992</td>\n",
              "      <td>Summer</td>\n",
              "      <td>Barcelona</td>\n",
              "      <td>Wrestling Men's Lightweight, Freestyle</td>\n",
              "      <td>Wrestling</td>\n",
              "      <td>Lightweight, Freestyle</td>\n",
              "      <td>M</td>\n",
              "      <td>None</td>\n",
              "    </tr>\n",
              "    <tr>\n",
              "      <th>116735</th>\n",
              "      <td>Kellie D. Suttle (-Dolrenry)</td>\n",
              "      <td>F</td>\n",
              "      <td>31</td>\n",
              "      <td>170.0</td>\n",
              "      <td>59.0</td>\n",
              "      <td>United States</td>\n",
              "      <td>USA</td>\n",
              "      <td>2004 Summer</td>\n",
              "      <td>2004</td>\n",
              "      <td>Summer</td>\n",
              "      <td>Athina</td>\n",
              "      <td>Athletics Women's Pole Vault</td>\n",
              "      <td>Athletics</td>\n",
              "      <td>Pole Vault</td>\n",
              "      <td>F</td>\n",
              "      <td>None</td>\n",
              "    </tr>\n",
              "    <tr>\n",
              "      <th>105484</th>\n",
              "      <td>Eriko Sanmiya</td>\n",
              "      <td>F</td>\n",
              "      <td>27</td>\n",
              "      <td>163.0</td>\n",
              "      <td>60.0</td>\n",
              "      <td>Japan</td>\n",
              "      <td>JPN</td>\n",
              "      <td>2002 Winter</td>\n",
              "      <td>2002</td>\n",
              "      <td>Winter</td>\n",
              "      <td>Salt Lake City</td>\n",
              "      <td>Speed Skating Women's 500 metres</td>\n",
              "      <td>Speed Skating</td>\n",
              "      <td>500 metres</td>\n",
              "      <td>F</td>\n",
              "      <td>None</td>\n",
              "    </tr>\n",
              "    <tr>\n",
              "      <th>72160</th>\n",
              "      <td>Luiz Felipe Marques Fonteles</td>\n",
              "      <td>M</td>\n",
              "      <td>32</td>\n",
              "      <td>196.0</td>\n",
              "      <td>89.0</td>\n",
              "      <td>Brazil</td>\n",
              "      <td>BRA</td>\n",
              "      <td>2016 Summer</td>\n",
              "      <td>2016</td>\n",
              "      <td>Summer</td>\n",
              "      <td>Rio de Janeiro</td>\n",
              "      <td>Volleyball Men's Volleyball</td>\n",
              "      <td>Volleyball</td>\n",
              "      <td>-</td>\n",
              "      <td>M</td>\n",
              "      <td>Gold</td>\n",
              "    </tr>\n",
              "    <tr>\n",
              "      <th>115766</th>\n",
              "      <td>Erwin Stricker</td>\n",
              "      <td>M</td>\n",
              "      <td>25</td>\n",
              "      <td>172.0</td>\n",
              "      <td>74.0</td>\n",
              "      <td>Italy</td>\n",
              "      <td>ITA</td>\n",
              "      <td>1976 Winter</td>\n",
              "      <td>1976</td>\n",
              "      <td>Winter</td>\n",
              "      <td>Innsbruck</td>\n",
              "      <td>Alpine Skiing Men's Downhill</td>\n",
              "      <td>Alpine Skiing</td>\n",
              "      <td>Downhill</td>\n",
              "      <td>M</td>\n",
              "      <td>None</td>\n",
              "    </tr>\n",
              "    <tr>\n",
              "      <th>73690</th>\n",
              "      <td>Maria Maioru</td>\n",
              "      <td>F</td>\n",
              "      <td>20</td>\n",
              "      <td>NaN</td>\n",
              "      <td>NaN</td>\n",
              "      <td>Romania</td>\n",
              "      <td>ROU</td>\n",
              "      <td>1980 Winter</td>\n",
              "      <td>1980</td>\n",
              "      <td>Winter</td>\n",
              "      <td>Lake Placid</td>\n",
              "      <td>Luge Women's Singles</td>\n",
              "      <td>Luge</td>\n",
              "      <td>Singles</td>\n",
              "      <td>F</td>\n",
              "      <td>None</td>\n",
              "    </tr>\n",
              "  </tbody>\n",
              "</table>\n",
              "</div>"
            ],
            "text/plain": [
              "                                Name Sex  ...  SportGenre  Medal\n",
              "ID                                        ...                   \n",
              "111496             Curt Josef Sjberg   M  ...           M   None\n",
              "39421            Maksim \"Max\" Geller   M  ...           M   None\n",
              "116735  Kellie D. Suttle (-Dolrenry)   F  ...           F   None\n",
              "105484                 Eriko Sanmiya   F  ...           F   None\n",
              "72160   Luiz Felipe Marques Fonteles   M  ...           M   Gold\n",
              "115766                Erwin Stricker   M  ...           M   None\n",
              "73690                   Maria Maioru   F  ...           F   None\n",
              "\n",
              "[7 rows x 16 columns]"
            ]
          },
          "metadata": {
            "tags": []
          },
          "execution_count": 55
        }
      ]
    },
    {
      "cell_type": "markdown",
      "metadata": {
        "id": "kxpFCZ2cC1zZ"
      },
      "source": [
        "## Exercici 1\n",
        "Agafa un conjunt de dades de tema esportiu que t'agradi i selecciona un atribut del conjunt de dades. Calcula el p-valor i digues si rebutja la hipòtesi nul·la agafant un alfa de 5%. \n",
        "\n"
      ]
    },
    {
      "cell_type": "code",
      "metadata": {
        "colab": {
          "base_uri": "https://localhost:8080/",
          "height": 404
        },
        "id": "8nmocwgK3L6Y",
        "outputId": "d6000610-89e8-4288-ac51-a23de16020ef"
      },
      "source": [
        "# Histograma de les edats dels atletes als jocs olimpics\n",
        "plt.figure(figsize=(16, 6))\n",
        "sns.histplot(data=df, x='Age')\n",
        "\n",
        "plt.title('Histogram of the ages of the athletes when participating in the Olympic Games');\n",
        "plt.xlabel('Age [years]');"
      ],
      "execution_count": 56,
      "outputs": [
        {
          "output_type": "display_data",
          "data": {
            "image/png": "[encoded data removed]",
            "text/plain": [
              "<Figure size 1152x432 with 1 Axes>"
            ]
          },
          "metadata": {
            "tags": [],
            "needs_background": "light"
          }
        }
      ]
    },
    {
      "cell_type": "code",
      "metadata": {
        "colab": {
          "base_uri": "https://localhost:8080/"
        },
        "id": "e4WwG0Aw4aOF",
        "outputId": "eb28e662-7a58-4343-9019-6ac0cce899cb"
      },
      "source": [
        "print(f'The sample mean of Age is: {df.Age.mean():.3f} years')"
      ],
      "execution_count": 57,
      "outputs": [
        {
          "output_type": "stream",
          "text": [
            "The sample mean of Age is: 25.557 years\n"
          ],
          "name": "stdout"
        }
      ]
    },
    {
      "cell_type": "markdown",
      "metadata": {
        "id": "G2nlOcTI3okX"
      },
      "source": [
        "Hipotesis:\n",
        "- $H_0: \\mu_M = 25$  L'edat mitjana dels atletes olímpics és de 25 anys\n",
        "- $H_1: \\mu_M \\neq 25$ L'edat mitjana dels atletes olímpics no és de 25 anys"
      ]
    },
    {
      "cell_type": "code",
      "metadata": {
        "colab": {
          "base_uri": "https://localhost:8080/"
        },
        "id": "bvXVXi3K51mb",
        "outputId": "243f0846-ac6e-43b0-dfb6-06f4d4184219"
      },
      "source": [
        "# Utilitzsem 1 sample t-test\n",
        "\n",
        "ALPHA = 0.05\n",
        "\n",
        "stat, p = ttest_1samp(df.Age.dropna(), popmean=25)\n",
        "\n",
        "print(f't-statistic = {stat:.3f}\\np-value = {p:.3f}')\n",
        "print('We can not reject H0') if p > ALPHA else print('We can reject H0')"
      ],
      "execution_count": 58,
      "outputs": [
        {
          "output_type": "stream",
          "text": [
            "t-statistic = 44.554\n",
            "p-value = 0.000\n",
            "We can reject H0\n"
          ],
          "name": "stdout"
        }
      ]
    },
    {
      "cell_type": "markdown",
      "metadata": {
        "id": "WRRF_xM66vX2"
      },
      "source": [
        "Conclusió:\n",
        "\n",
        "Rebutjem la hipòtesis nul·la. Disposem de prou evidència per rebutjar, amb un nivell de significancia del 5%, que la mitjana d'edat dels atletes als jocs olimpics sigui de 25 anys."
      ]
    },
    {
      "cell_type": "markdown",
      "metadata": {
        "id": "1kkk_LDIC1wn"
      },
      "source": [
        "## Exercici 2\n",
        "Continua amb el conjunt de dades de tema esportiu que t'agradi i selecciona dos atributs del conjunt de dades. Calcula el p-valor i digues si rebutja la hipòtesi nul·la agafant un alfa de 5%."
      ]
    },
    {
      "cell_type": "code",
      "metadata": {
        "colab": {
          "base_uri": "https://localhost:8080/",
          "height": 404
        },
        "id": "_C9lUPIMnjF_",
        "outputId": "a6f7a922-c6c3-4c84-e2d1-a659c4fa9e97"
      },
      "source": [
        "# Histograma de la distribució d'edats dels atletes segons el gènere \n",
        "plt.figure(figsize=(16, 6))\n",
        "sns.histplot(data=df, x='Age', hue='Sex')\n",
        "\n",
        "plt.title('Histogram of the ages of the athletes when participating in the Olympic Games, splitted by Sex (F=Female/M=Male)');\n",
        "plt.xlabel('Age [years]');"
      ],
      "execution_count": 59,
      "outputs": [
        {
          "output_type": "display_data",
          "data": {
            "image/png": "[encoded data removed]",
            "text/plain": [
              "<Figure size 1152x432 with 1 Axes>"
            ]
          },
          "metadata": {
            "tags": [],
            "needs_background": "light"
          }
        }
      ]
    },
    {
      "cell_type": "markdown",
      "metadata": {
        "id": "h6WT5kF6X1w9"
      },
      "source": [
        "Hipotesis:\n",
        "- $H_0: \\mu_M = \\mu_F$  L'edat mitjana dels atletes olímpics (homes) **és igual** a la de les atletes olímpiques (dones)\n",
        "- $H_1: \\mu_M \\neq \\mu_F$ L'edat mitjana dels atletes olímpics (homes) **és diferent** a la de les atletes olímpiques (dones) "
      ]
    },
    {
      "cell_type": "code",
      "metadata": {
        "id": "LRxttT4QDEJb",
        "colab": {
          "base_uri": "https://localhost:8080/"
        },
        "outputId": "a6323367-ff2d-40e2-fa8d-2f155ab2a34a"
      },
      "source": [
        "# Utilitzsem la prova 2-tailed Welchs' t-test (equivalent a Student's t-test però\n",
        "# quan no podem assegurar que dues poblacions tinguin mateixa variança)\n",
        "\n",
        "ALPHA = 0.05\n",
        "\n",
        "age_males = df.loc[df.Sex=='M','Age'].dropna()\n",
        "age_females = df.loc[df.Sex=='F','Age'].dropna()\n",
        "\n",
        "stat, p = ttest_ind(age_males,age_females, alternative='two-sided', equal_var=False)\n",
        "\n",
        "print(f't-statistic = {stat:.3f}\\np-value = {p:.3f}')\n",
        "print('We can not reject H0') if p > ALPHA else print('We can reject H0')"
      ],
      "execution_count": 60,
      "outputs": [
        {
          "output_type": "stream",
          "text": [
            "t-statistic = 97.815\n",
            "p-value = 0.000\n",
            "We can reject H0\n"
          ],
          "name": "stdout"
        }
      ]
    },
    {
      "cell_type": "markdown",
      "metadata": {
        "id": "plAemrE4ncfj"
      },
      "source": [
        "Conclusió:\n",
        "\n",
        "Rebutjem la hipòtesis nul·la. Disposem de prou evidència per afirmar, amb un nivell de significancia del 5%, que hi ha una diferència significativa entre l'edat mitjana dels atletes homes i les atletes dones que participen als jocs olímpics."
      ]
    },
    {
      "cell_type": "markdown",
      "metadata": {
        "id": "rjxC0YGEC1t4"
      },
      "source": [
        "## Exercici 3\n",
        "Continua amb el conjunt de dades de tema esportiu que t'agradi i selecciona tres atributs del conjunt de dades. Calcula el p-valor i digues si rebutja la hipòtesi nul·la agafant un alfa de 5%."
      ]
    },
    {
      "cell_type": "code",
      "metadata": {
        "colab": {
          "base_uri": "https://localhost:8080/",
          "height": 404
        },
        "id": "jXyz02VzwKcN",
        "outputId": "c9a5f046-8aa9-489d-b039-a4ea073147b5"
      },
      "source": [
        "# Histograma de la distribució d'alçades dels atletes olimpics en Basket, Volley i Halterofilia\n",
        "\n",
        "plt.figure(figsize=(16, 6))\n",
        "sns.histplot(data=df[df.Sport.str.match('Basketball|Volleyball|Weightlifting')], x='Height', hue='Sport', kde=True)\n",
        "\n",
        "plt.title('Histogram of the heights of the olimpic athletes in Basketball, Volleyball and Weightlifting competitions');\n"
      ],
      "execution_count": 61,
      "outputs": [
        {
          "output_type": "display_data",
          "data": {
            "image/png": "[encoded data removed]",
            "text/plain": [
              "<Figure size 1152x432 with 1 Axes>"
            ]
          },
          "metadata": {
            "tags": [],
            "needs_background": "light"
          }
        }
      ]
    },
    {
      "cell_type": "markdown",
      "metadata": {
        "id": "vPoKRVgrx4zp"
      },
      "source": [
        "Hipotesis:\n",
        "- $H_0: \\mu_B = \\mu_V = \\mu_W$  Les alçades mitjanes dels atlètes olímpics en disciplines de Basketball, Volleyball i Weightlifting **són iguals**\n",
        "- $H_1$: Les tres mitjanes **no són iguals**"
      ]
    },
    {
      "cell_type": "code",
      "metadata": {
        "colab": {
          "base_uri": "https://localhost:8080/"
        },
        "id": "shewdtlyvSLG",
        "outputId": "72d948e9-9303-4a14-c720-b48c20442b44"
      },
      "source": [
        "# Utilitzem el test ANOVA per 3 grups\n",
        "\n",
        "ALPHA = 0.05\n",
        "\n",
        "height_basketball = df.loc[df.Sport=='Basketball','Height'].dropna()\n",
        "height_volleyball = df.loc[df.Sport=='Volleyball','Height'].dropna()\n",
        "height_weightlifting = df.loc[df.Sport=='Weightlifting','Height'].dropna()\n",
        "\n",
        "stat, p = f_oneway(height_basketball,  height_volleyball, height_weightlifting)\n",
        "\n",
        "print(f'F-statistic = {stat:.3f}\\np-value = {p:.3f}')\n",
        "print('We can not reject H0') if p > ALPHA else print('We can reject H0')"
      ],
      "execution_count": 62,
      "outputs": [
        {
          "output_type": "stream",
          "text": [
            "F-statistic = 4295.366\n",
            "p-value = 0.000\n",
            "We can reject H0\n"
          ],
          "name": "stdout"
        }
      ]
    },
    {
      "cell_type": "markdown",
      "metadata": {
        "id": "QGEFIY7WzWQd"
      },
      "source": [
        "Conclusió 1:\n",
        "\n",
        "Rebutjem la hipòtesis nul·la. Disposem de prou evidència per afirmar, amb un nivell de significancia del 5%, que l'alçada mitjana per als grups d'atletes olimpics competint en Basket, Volley i Halterofilia no és la mateixa.\n"
      ]
    },
    {
      "cell_type": "markdown",
      "metadata": {
        "id": "1xRRutilxcOJ"
      },
      "source": [
        "El resultat del test ANOVA ens diu que no podem afirmar que les 3 mitjanes siguin iguals, però no ens permet rebutjar que siguin iguals dos a dos. Per això, hem d'aplicar el test de TUKEY."
      ]
    },
    {
      "cell_type": "code",
      "metadata": {
        "colab": {
          "base_uri": "https://localhost:8080/"
        },
        "id": "nybK5rRowLfm",
        "outputId": "2a0092cd-c30c-477b-fb7f-f842da6efef0"
      },
      "source": [
        "# Comparació de multiples grups per parells (Tukey HSD)\n",
        "\n",
        "ALPHA = 0.05\n",
        "\n",
        "foo = df.loc[df.Sport.str.match('Basketball|Volleyball|Weightlifting'), ['Height','Sport']].dropna()\n",
        "\n",
        "m_comp = pairwise_tukeyhsd(endog=foo['Height'], groups=foo['Sport'], alpha=ALPHA)\n",
        "\n",
        "print(m_comp)\n"
      ],
      "execution_count": 63,
      "outputs": [
        {
          "output_type": "stream",
          "text": [
            "      Multiple Comparison of Means - Tukey HSD, FWER=0.05       \n",
            "================================================================\n",
            "  group1       group2    meandiff p-adj  lower    upper   reject\n",
            "----------------------------------------------------------------\n",
            "Basketball    Volleyball  -3.8751 0.001  -4.4702  -3.2799   True\n",
            "Basketball Weightlifting -23.0451 0.001 -23.6548 -22.4353   True\n",
            "Volleyball Weightlifting   -19.17 0.001 -19.8036 -18.5365   True\n",
            "----------------------------------------------------------------\n"
          ],
          "name": "stdout"
        }
      ]
    },
    {
      "cell_type": "markdown",
      "metadata": {
        "id": "yMNctBRpyC5e"
      },
      "source": [
        "Conclusió 2:\n",
        "\n",
        "Disposem de prou evidència per afirmar, amb un nivell de significancia del 5%, que cap dels tres grups d'atletes (Basket, Volley, Halterofilia) té la mateixa alçada mitjana que un dels altres grups."
      ]
    }
  ]
}